{
 "cells": [
  {
   "cell_type": "code",
   "execution_count": 156,
   "metadata": {},
   "outputs": [],
   "source": [
    "import pandas as pd\n",
    "import numpy as np\n",
    "import time"
   ]
  },
  {
   "cell_type": "code",
   "execution_count": 17,
   "metadata": {},
   "outputs": [],
   "source": [
    "df = pd.read_html('index.html',header=0)[0]"
   ]
  },
  {
   "cell_type": "code",
   "execution_count": 23,
   "metadata": {},
   "outputs": [],
   "source": [
    "df = df[~df.Name.str.contains(\"an\")]"
   ]
  },
  {
   "cell_type": "code",
   "execution_count": 24,
   "metadata": {},
   "outputs": [
    {
     "data": {
      "text/html": [
       "<div>\n",
       "<style scoped>\n",
       "    .dataframe tbody tr th:only-of-type {\n",
       "        vertical-align: middle;\n",
       "    }\n",
       "\n",
       "    .dataframe tbody tr th {\n",
       "        vertical-align: top;\n",
       "    }\n",
       "\n",
       "    .dataframe thead th {\n",
       "        text-align: right;\n",
       "    }\n",
       "</style>\n",
       "<table border=\"1\" class=\"dataframe\">\n",
       "  <thead>\n",
       "    <tr style=\"text-align: right;\">\n",
       "      <th></th>\n",
       "      <th>Name</th>\n",
       "      <th>Phone</th>\n",
       "      <th>Email</th>\n",
       "      <th>Date</th>\n",
       "    </tr>\n",
       "  </thead>\n",
       "  <tbody>\n",
       "    <tr>\n",
       "      <th>1</th>\n",
       "      <td>Jamal, Kathleen, Halla, Kaseem</td>\n",
       "      <td>(0191) 241 1726</td>\n",
       "      <td>pellentesque@in.co.uk</td>\n",
       "      <td>Jun 22, 2020</td>\n",
       "    </tr>\n",
       "    <tr>\n",
       "      <th>2</th>\n",
       "      <td>Gage, Nina, Cain, Lillith</td>\n",
       "      <td>07624 622804</td>\n",
       "      <td>ornare.placerat.orci@mitemporlorem.edu</td>\n",
       "      <td>Jan 17, 2019</td>\n",
       "    </tr>\n",
       "    <tr>\n",
       "      <th>3</th>\n",
       "      <td>Kuame, Marshall, Barclay, Cherokee</td>\n",
       "      <td>(01571) 046238</td>\n",
       "      <td>consequat.purus@Proin.org</td>\n",
       "      <td>Feb 18, 2019</td>\n",
       "    </tr>\n",
       "    <tr>\n",
       "      <th>4</th>\n",
       "      <td>Barry, Elvis, Kevyn, Riley</td>\n",
       "      <td>(0111) 273 0368</td>\n",
       "      <td>orci.consectetuer@velmauris.org</td>\n",
       "      <td>Apr 8, 2019</td>\n",
       "    </tr>\n",
       "    <tr>\n",
       "      <th>9</th>\n",
       "      <td>Idola, Hammett, Jessica, Yeo</td>\n",
       "      <td>07624 178775</td>\n",
       "      <td>ac@sodales.co.uk</td>\n",
       "      <td>Oct 22, 2019</td>\n",
       "    </tr>\n",
       "  </tbody>\n",
       "</table>\n",
       "</div>"
      ],
      "text/plain": [
       "                                 Name            Phone  \\\n",
       "1      Jamal, Kathleen, Halla, Kaseem  (0191) 241 1726   \n",
       "2           Gage, Nina, Cain, Lillith     07624 622804   \n",
       "3  Kuame, Marshall, Barclay, Cherokee   (01571) 046238   \n",
       "4          Barry, Elvis, Kevyn, Riley  (0111) 273 0368   \n",
       "9        Idola, Hammett, Jessica, Yeo     07624 178775   \n",
       "\n",
       "                                    Email          Date  \n",
       "1                   pellentesque@in.co.uk  Jun 22, 2020  \n",
       "2  ornare.placerat.orci@mitemporlorem.edu  Jan 17, 2019  \n",
       "3               consequat.purus@Proin.org  Feb 18, 2019  \n",
       "4         orci.consectetuer@velmauris.org   Apr 8, 2019  \n",
       "9                        ac@sodales.co.uk  Oct 22, 2019  "
      ]
     },
     "execution_count": 24,
     "metadata": {},
     "output_type": "execute_result"
    }
   ],
   "source": [
    "df.head()"
   ]
  },
  {
   "cell_type": "code",
   "execution_count": 25,
   "metadata": {},
   "outputs": [],
   "source": [
    "df.to_excel('Detail_Index.xls')"
   ]
  },
  {
   "cell_type": "code",
   "execution_count": 12,
   "metadata": {},
   "outputs": [],
   "source": [
    "from selenium import webdriver\n",
    "from selenium.webdriver.common.keys import Keys\n",
    "import datetime as dt"
   ]
  },
  {
   "cell_type": "code",
   "execution_count": null,
   "metadata": {},
   "outputs": [],
   "source": [
    "df = pd.read_excel('Detail_Index.xls')"
   ]
  },
  {
   "cell_type": "code",
   "execution_count": 8,
   "metadata": {},
   "outputs": [],
   "source": [
    "df.reset_index(inplace=True)"
   ]
  },
  {
   "cell_type": "code",
   "execution_count": 9,
   "metadata": {},
   "outputs": [],
   "source": [
    "df.drop('index',axis=1,inplace=True)"
   ]
  },
  {
   "cell_type": "code",
   "execution_count": 113,
   "metadata": {},
   "outputs": [],
   "source": [
    "df.Phone = df.Phone.str.replace(r'\\(|\\)| ','')"
   ]
  },
  {
   "cell_type": "code",
   "execution_count": 159,
   "metadata": {},
   "outputs": [],
   "source": [
    "def Automation_attribute(browser ):\n",
    "    for i in range(0,len(df)):\n",
    "        browser.get('https://docs.google.com/forms/d/e/1FAIpQLSc9Qn2s52l28z0Rn5bAo5nVOb2Ug2Y1I0n8FGeUOmtgEB5VwA/viewform')\n",
    "        Name = browser.find_element_by_xpath('//*[@id=\"mG61Hd\"]/div/div/div[2]/div[1]/div/div[2]/div/div[1]/div/div[1]/input')\n",
    "        Name.send_keys(df.Name[i])\n",
    "        time.sleep(2)\n",
    "        phone = browser.find_element_by_xpath('//*[@id=\"mG61Hd\"]/div/div/div[2]/div[2]/div/div[2]/div/div[1]/div/div[1]/input')\n",
    "        phone.send_keys(df.Phone[i])\n",
    "        time.sleep(2)\n",
    "        Email = browser.find_element_by_xpath('//*[@id=\"mG61Hd\"]/div/div/div[2]/div[3]/div/div[2]/div/div[1]/div/div[1]/input')\n",
    "        Email.send_keys(df.Email[i])\n",
    "        time.sleep(2)\n",
    "        date = browser.find_element_by_xpath('//*[@id=\"mG61Hd\"]/div/div/div[2]/div[4]/div/div[2]/div/div[2]/div[1]/div/div[1]/input')\n",
    "        date.send_keys(int(pd.to_datetime(df[\"Date\"][i]).strftime(\"%d%m%Y\")))\n",
    "        time.sleep(2)\n",
    "        Submit = browser.find_element_by_xpath('//*[@id=\"mG61Hd\"]/div/div/div[3]/div[1]/div/div/span/span')\n",
    "        Submit.click()\n",
    "        print('Submitted ',i )"
   ]
  },
  {
   "cell_type": "code",
   "execution_count": 137,
   "metadata": {},
   "outputs": [],
   "source": [
    "browser = webdriver.Chrome()"
   ]
  },
  {
   "cell_type": "code",
   "execution_count": 160,
   "metadata": {},
   "outputs": [
    {
     "name": "stdout",
     "output_type": "stream",
     "text": [
      "Submitted  0\n",
      "Submitted  1\n",
      "Submitted  2\n",
      "Submitted  3\n",
      "Submitted  4\n",
      "Submitted  5\n",
      "Submitted  6\n",
      "Submitted  7\n",
      "Submitted  8\n",
      "Submitted  9\n",
      "Submitted  10\n",
      "Submitted  11\n",
      "Submitted  12\n",
      "Submitted  13\n",
      "Submitted  14\n",
      "Submitted  15\n",
      "Submitted  16\n",
      "Submitted  17\n",
      "Submitted  18\n",
      "Submitted  19\n",
      "Submitted  20\n",
      "Submitted  21\n",
      "Submitted  22\n",
      "Submitted  23\n",
      "Submitted  24\n",
      "Submitted  25\n",
      "Submitted  26\n",
      "Submitted  27\n",
      "Submitted  28\n",
      "Submitted  29\n",
      "Submitted  30\n",
      "Submitted  31\n",
      "Submitted  32\n",
      "Submitted  33\n",
      "Submitted  34\n",
      "Submitted  35\n",
      "Submitted  36\n",
      "Submitted  37\n",
      "Submitted  38\n",
      "Submitted  39\n",
      "Submitted  40\n",
      "Submitted  41\n",
      "Submitted  42\n"
     ]
    }
   ],
   "source": [
    "Automation_attribute(browser)"
   ]
  }
 ],
 "metadata": {
  "kernelspec": {
   "display_name": "Python 3",
   "language": "python",
   "name": "python3"
  },
  "language_info": {
   "codemirror_mode": {
    "name": "ipython",
    "version": 3
   },
   "file_extension": ".py",
   "mimetype": "text/x-python",
   "name": "python",
   "nbconvert_exporter": "python",
   "pygments_lexer": "ipython3",
   "version": "3.7.0"
  }
 },
 "nbformat": 4,
 "nbformat_minor": 2
}
